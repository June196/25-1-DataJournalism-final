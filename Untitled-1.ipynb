{
 "cells": [
  {
   "cell_type": "code",
   "execution_count": null,
   "id": "b890177b",
   "metadata": {},
   "outputs": [],
   "source": [
    "import streamlit as st\n",
    "import pandas as pd\n",
    "import numpy as np\n",
    "\n",
    "snu_img_path = \"25-1 dataJ/final project_college university/snu_img.jpg\"\n",
    "snu_img = st.image(snu_img_path)\n",
    "\n",
    "\n",
    "st.title(\"서울대 학부대학 설립과 융합교육\")\n",
    "st.markdown(\"서울대학교 학부대학이란 무엇인가? 어디로 가야하는가?\")\n",
    "\n",
    "st.write('지난해 말, 서울대학교는 새로운 형태의 교육조직인 학부대학을 공식 출범시키며 학부교육 혁신을 예고했다. \"무전공 입학,\" \"공통교양 강화,\" \"마이크로디그리 신설\" 같은 변화는 단순한 제도 개편을 넘어, 서울대가 학문 간 경계를 넘나드는 융합적 사고와 실천 중심의 교육을 핵심 가치로 삼기 시작했음을 보여준다. 이러한 움직임은 단지 내부의 조직 개편이 아니라, 대학 교육의 방향성을 근본부터 다시 묻는 시도라 할 수 있다.')\n",
    "\n",
    "st.header(\"학부대학이란 무엇인가?\")\n",
    "\n",
    "# 사용자 입력 받기\n",
    "st.subheader('서울대인의 목소리')\n",
    "user_opinion = st.text_input('당신이 생각하는 융합교육이란 무엇인가요?')\n",
    "\n",
    "\"\"\"\n",
    "df = pd.DataFrame(columns=['opinion'])\n",
    "if user_opinion:\n",
    "    new_row = pd.DataFrame([[user_opinion]], columns=['opinion'])\n",
    "    st.session_state.df = pd.concat([st.session_state.df, new_row], ignore_index=True)\n",
    "\"\"\"\n",
    "\n",
    "# 'df'가 st.session_state에 존재하지 않으면 초기화\n",
    "if 'df' not in st.session_state:\n",
    "    st.session_state.df = pd.DataFrame(columns=['opinion'])\n",
    "\n",
    "# 사용자 의견이 입력되었을 때 데이터프레임에 추가\n",
    "if user_opinion:\n",
    "    new_row = pd.DataFrame([[user_opinion]], columns=['opinion'])\n",
    "    st.session_state.df = pd.concat([st.session_state.df, new_row], ignore_index=True)\n",
    "\n",
    "# 데이터프레임 표시\n",
    "st.write(st.session_state.df)\n",
    "## 아니면 이거 wordcloud로 표시해볼까?\n",
    "\n"
   ]
  }
 ],
 "metadata": {
  "language_info": {
   "name": "python"
  }
 },
 "nbformat": 4,
 "nbformat_minor": 5
}

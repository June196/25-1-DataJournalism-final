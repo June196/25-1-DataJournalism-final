{
 "cells": [
  {
   "cell_type": "code",
   "execution_count": null,
   "id": "b890177b",
   "metadata": {},
   "outputs": [],
   "source": [
    "# 데이터 불러오기\n",
    "df = pd.read_csv('CourseList.csv')\n",
    "\n",
    "# 한글 폰트 경로 직접 지정\n",
    "korean_font = './NotoSansKR-Bold.ttf'\n",
    "\n",
    "# 워드클라우드 생성 함수 정의\n",
    "def generate_wordcloud_by_area(df, font_path):\n",
    "    unique_areas = df['영역'].dropna().unique()\n",
    "    n_cols = 2\n",
    "    n_rows = (len(unique_areas) + 1) // n_cols\n",
    "\n",
    "    plt.figure(figsize=(14, 4 * n_rows))\n",
    "\n",
    "    for i, area in enumerate(unique_areas, 1):\n",
    "        area_df = df[df['영역'] == area]\n",
    "        text = \" \".join(area_df['교과목명'].astype(str))\n",
    "\n",
    "        wordcloud = WordCloud(\n",
    "            font_path=font_path,\n",
    "            width=800,\n",
    "            height=400,\n",
    "            background_color='white'\n",
    "        ).generate(text)\n",
    "\n",
    "        plt.subplot(n_rows, n_cols, i)\n",
    "        plt.imshow(wordcloud, interpolation='bilinear')\n",
    "        plt.axis('off')\n",
    "        plt.title(f\"{area} 영역 WordCloud\")\n",
    "\n",
    "    plt.tight_layout()\n",
    "    plt.show()\n",
    "\n",
    "generate_wordcloud_by_area(df, font_path=korean_font)\n",
    "\n"
   ]
  }
 ],
 "metadata": {
  "language_info": {
   "name": "python"
  }
 },
 "nbformat": 4,
 "nbformat_minor": 5
}
